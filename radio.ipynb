{
 "cells": [
  {
   "cell_type": "code",
   "execution_count": 3,
   "id": "b9b5500c-2d1a-4b62-8536-26f9d0f938e0",
   "metadata": {},
   "outputs": [
    {
     "name": "stdout",
     "output_type": "stream",
     "text": [
      "The autoreload extension is already loaded. To reload it, use:\n",
      "  %reload_ext autoreload\n"
     ]
    }
   ],
   "source": [
    "%load_ext autoreload\n",
    "%autoreload 2"
   ]
  },
  {
   "cell_type": "code",
   "execution_count": 12,
   "id": "42b19a46-453a-41e4-8c40-bb50fc0fab69",
   "metadata": {},
   "outputs": [],
   "source": [
    "from newsreclib.metrics.RADio.metric import DiversityMetric\n",
    "from collections import defaultdict\n",
    "import ast"
   ]
  },
  {
   "cell_type": "code",
   "execution_count": 13,
   "id": "2c40c657-013f-466a-9cc4-0d723aee84d7",
   "metadata": {},
   "outputs": [],
   "source": [
    "def compute_calibration(df_news, df_beh, recommendations):\n",
    "    # Prepare mappings\n",
    "    df_beh[\"uid\"] = df_beh[\"uid\"].astype(str).radd(\"U\")\n",
    "    nid_to_category = df_news.set_index('nid')['category'].to_dict()\n",
    "    uid_to_history = dict(zip(df_beh['uid'], df_beh['history']))\n",
    "\n",
    "    # Prepare user aggregates\n",
    "    user_agg = {}\n",
    "    for c, (uid, recs) in enumerate(recommendations.items()):\n",
    "        # Filter and map predicted nids to categories\n",
    "        pred_category = [nid_to_category[nid] for nid, score in recs.items() if score > 0 and nid in nid_to_category]\n",
    "\n",
    "        # Get history and map to categories\n",
    "        histories = ast.literal_eval(uid_to_history.get(uid, '[]'))\n",
    "        history_category = [nid_to_category[nid] for nid in histories if nid in nid_to_category]\n",
    "\n",
    "        if history_category and pred_category:\n",
    "            user_agg[uid] = {\n",
    "                \"hist_cat\": list(set(history_category)),\n",
    "                \"pred_cat\": list(set(pred_category)),\n",
    "            }\n",
    "\n",
    "    # Compute calibration score\n",
    "    Calibration = DiversityMetric(\n",
    "        feature_type='cat',\n",
    "        rank_aware_recommendation=True,\n",
    "        rank_aware_context=True,\n",
    "        divergence='JSD',\n",
    "        context='dynamic'\n",
    "    )\n",
    "\n",
    "    cal_scores = [Calibration.compute(data[\"hist_cat\"], data[\"pred_cat\"]) for data in user_agg.values()]\n",
    "    return sum(cal_scores) / len(cal_scores) if cal_scores else 0\n"
   ]
  },
  {
   "cell_type": "code",
   "execution_count": 11,
   "id": "8f3e57a4-9b7b-47a7-badd-1c7c01d03f6f",
   "metadata": {},
   "outputs": [],
   "source": [
    "def compute_representation(df_news, df_beh, recommendations):\n",
    "    # Preprocess\n",
    "    df_beh[\"uid\"] = df_beh[\"uid\"].astype(str).radd(\"U\")\n",
    "    nid_to_frame = df_news.set_index(\"nid\")[\"frame_class\"].to_dict()\n",
    "    uid_to_history = dict(zip(df_beh[\"uid\"], df_beh[\"history\"]))\n",
    "\n",
    "    user_agg = {}\n",
    "    for c, (uid, recs) in enumerate(recommendations.items()):\n",
    "        # Get predicted frame classes\n",
    "        pred_category = [\n",
    "            nid_to_frame[nid]\n",
    "            for nid, score in recs.items()\n",
    "            if score > 0 and nid in nid_to_frame\n",
    "        ]\n",
    "\n",
    "        # Get history frame classes\n",
    "        histories = ast.literal_eval(uid_to_history.get(uid, \"[]\"))\n",
    "        history_category = [\n",
    "            nid_to_frame[nid]\n",
    "            for nid in histories\n",
    "            if nid in nid_to_frame\n",
    "        ]\n",
    "\n",
    "        if history_category and pred_category:\n",
    "            user_agg[uid] = {\n",
    "                \"hist_cat\": list(set(history_category)),\n",
    "                \"pred_cat\": list(set(pred_category)),\n",
    "            }\n",
    "\n",
    "    # Compute representation score\n",
    "    Representation = DiversityMetric(\n",
    "        feature_type='cat', \n",
    "        rank_aware_recommendation=True,\n",
    "        rank_aware_context=True,\n",
    "        divergence='JSD',\n",
    "        context='dynamic'\n",
    "    )\n",
    "\n",
    "    rep_scores = [\n",
    "        Representation.compute(data[\"hist_cat\"], data[\"pred_cat\"])\n",
    "        for data in user_agg.values()\n",
    "    ]\n",
    "    return sum(rep_scores) / len(rep_scores) if rep_scores else 0\n"
   ]
  },
  {
   "cell_type": "code",
   "execution_count": 10,
   "id": "b4c6714a-9db2-494f-96e8-992d57a32720",
   "metadata": {},
   "outputs": [
    {
     "data": {
      "text/plain": [
       "0.9942797605616535"
      ]
     },
     "execution_count": 10,
     "metadata": {},
     "output_type": "execute_result"
    }
   ],
   "source": [
    "def compute_activation(df_news, df_beh, recommendations):\n",
    "    # Preprocessing\n",
    "    df_beh[\"uid\"] = df_beh[\"uid\"].astype(str).radd(\"U\")\n",
    "    nid_to_sentiment = df_news.set_index(\"nid\")[\"sentiment_score\"].abs().to_dict()\n",
    "    uid_to_history = dict(zip(df_beh[\"uid\"], df_beh[\"history\"]))\n",
    "\n",
    "    user_agg = {}\n",
    "\n",
    "    for c, (uid, recs) in enumerate(recommendations.items()):\n",
    "        pred_category = [\n",
    "            nid_to_sentiment[nid]\n",
    "            for nid, score in recs.items()\n",
    "            if score > 0 and nid in nid_to_sentiment\n",
    "        ]\n",
    "\n",
    "        candidate_category = [\n",
    "            nid_to_sentiment[nid]\n",
    "            for nid, score in recs.items()\n",
    "            if nid in nid_to_sentiment\n",
    "        ]\n",
    "\n",
    "        if candidate_category and pred_category:\n",
    "            user_agg[uid] = {\n",
    "                \"cand_act\": candidate_category,\n",
    "                \"pred_act\": pred_category,\n",
    "            }\n",
    "\n",
    "    Activation = DiversityMetric(\n",
    "        feature_type='cont',\n",
    "        rank_aware_recommendation=True,\n",
    "        rank_aware_context=False,\n",
    "        divergence='JSD',\n",
    "        bins=10,\n",
    "        context='static'\n",
    "    )\n",
    "\n",
    "    act_scores = [\n",
    "        Activation.compute(data[\"pred_act\"], data[\"cand_act\"])\n",
    "        for data in user_agg.values()\n",
    "    ]\n",
    "\n",
    "    return sum(act_scores) / len(act_scores) if act_scores else 0"
   ]
  },
  {
   "cell_type": "code",
   "execution_count": null,
   "id": "09cb57b9-c5eb-42ff-bea4-f74e1f07e81b",
   "metadata": {},
   "outputs": [],
   "source": []
  }
 ],
 "metadata": {
  "kernelspec": {
   "display_name": "Python 3 (ipykernel)",
   "language": "python",
   "name": "python3"
  },
  "language_info": {
   "codemirror_mode": {
    "name": "ipython",
    "version": 3
   },
   "file_extension": ".py",
   "mimetype": "text/x-python",
   "name": "python",
   "nbconvert_exporter": "python",
   "pygments_lexer": "ipython3",
   "version": "3.9.22"
  }
 },
 "nbformat": 4,
 "nbformat_minor": 5
}
